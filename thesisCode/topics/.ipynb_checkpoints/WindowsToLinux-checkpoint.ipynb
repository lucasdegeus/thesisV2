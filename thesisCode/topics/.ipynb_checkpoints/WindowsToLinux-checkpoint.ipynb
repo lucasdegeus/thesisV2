{
 "cells": [
  {
   "cell_type": "code",
   "execution_count": null,
   "metadata": {},
   "outputs": [],
   "source": [
    "cat -v file.txt > file1.txt"
   ]
  },
  {
   "cell_type": "code",
   "execution_count": 10,
   "metadata": {},
   "outputs": [
    {
     "data": {
      "text/plain": [
       "0"
      ]
     },
     "execution_count": 10,
     "metadata": {},
     "output_type": "execute_result"
    }
   ],
   "source": [
    "import os\n",
    "x = 'ls' \n",
    "os.system(x)"
   ]
  },
  {
   "cell_type": "code",
   "execution_count": 27,
   "metadata": {},
   "outputs": [
    {
     "name": "stdout",
     "output_type": "stream",
     "text": [
      "thirdparty.txt\n",
      "retention.txt\n",
      "datacontroller.txt\n",
      "rectify.txt\n",
      "reason.txt\n",
      "period.txt\n"
     ]
    }
   ],
   "source": [
    "for file in os.listdir():\n",
    "    if '.ipy' in file:\n",
    "        continue\n",
    "    file = file.split('.')\n",
    "    print(file[0] + \".\" + file[1])\n",
    "    os.system('cat -v ' + file[0] + \".\" + file[1] + \" > \" + file[0] + \"1.\" + file[1])"
   ]
  }
 ],
 "metadata": {
  "kernelspec": {
   "display_name": "Python 3",
   "language": "python",
   "name": "python3"
  },
  "language_info": {
   "codemirror_mode": {
    "name": "ipython",
    "version": 3
   },
   "file_extension": ".py",
   "mimetype": "text/x-python",
   "name": "python",
   "nbconvert_exporter": "python",
   "pygments_lexer": "ipython3",
   "version": "3.7.3"
  }
 },
 "nbformat": 4,
 "nbformat_minor": 2
}
